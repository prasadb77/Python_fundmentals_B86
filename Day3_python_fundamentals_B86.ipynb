{
 "cells": [
  {
   "cell_type": "code",
   "execution_count": null,
   "id": "b9586829-d5c2-4a56-8f5f-e798cf4d56bc",
   "metadata": {},
   "outputs": [],
   "source": [
    "continuation with strings:"
   ]
  },
  {
   "cell_type": "code",
   "execution_count": null,
   "id": "48abb9c9-c2cb-4c98-919c-a6de77b11cc9",
   "metadata": {},
   "outputs": [],
   "source": []
  },
  {
   "cell_type": "code",
   "execution_count": null,
   "id": "0d725719-274f-4740-918a-054f85ca031e",
   "metadata": {},
   "outputs": [],
   "source": [
    "understanding the concept of f strings :"
   ]
  },
  {
   "cell_type": "code",
   "execution_count": null,
   "id": "8c0eb88e-bfa2-46b2-9949-c6e85fe6649e",
   "metadata": {},
   "outputs": [],
   "source": [
    "# Genral syntax of f strings"
   ]
  },
  {
   "cell_type": "code",
   "execution_count": null,
   "id": "78fb1e45-6f28-43aa-958e-ddb805bf7a7b",
   "metadata": {},
   "outputs": [],
   "source": [
    "f\"custom message{pleacehoder-1} {placeholdr-2}.......{placeholder...n}\""
   ]
  },
  {
   "cell_type": "code",
   "execution_count": 4,
   "id": "cade3491-93dc-49b2-9ecb-1f3898b4d3ee",
   "metadata": {},
   "outputs": [],
   "source": [
    "firstname = \"pradeep\"\n",
    "lastname = \"kumar\""
   ]
  },
  {
   "cell_type": "code",
   "execution_count": null,
   "id": "68d3a85d-d3bd-43d4-aa53-0442c23eb95d",
   "metadata": {},
   "outputs": [],
   "source": [
    "# req \" i want to get the full name....?"
   ]
  },
  {
   "cell_type": "code",
   "execution_count": 5,
   "id": "29f69709-fdbb-4e07-9479-e589f7963f25",
   "metadata": {},
   "outputs": [
    {
     "name": "stdout",
     "output_type": "stream",
     "text": [
      "pradeep kumar\n"
     ]
    }
   ],
   "source": [
    "fullname = f\"{firstname} {lastname}\"\n",
    "print(fullname)"
   ]
  },
  {
   "cell_type": "code",
   "execution_count": 6,
   "id": "ffe59280-d444-4cf2-8a7c-5420aaa2dbfc",
   "metadata": {},
   "outputs": [
    {
     "name": "stdout",
     "output_type": "stream",
     "text": [
      "Pradeep Kumar\n"
     ]
    }
   ],
   "source": [
    "print(fullname.title())"
   ]
  },
  {
   "cell_type": "code",
   "execution_count": 7,
   "id": "9d88bc41-635b-4dbc-932e-84d98b9c3473",
   "metadata": {},
   "outputs": [
    {
     "name": "stdout",
     "output_type": "stream",
     "text": [
      "keep up the good work, Pradeep Kumar\n"
     ]
    }
   ],
   "source": [
    "message = f\"keep up the good work, {fullname.title()}\"\n",
    "print(message)"
   ]
  },
  {
   "cell_type": "code",
   "execution_count": null,
   "id": "f27cf971-6e28-4ba1-9f17-f1621d869704",
   "metadata": {},
   "outputs": [],
   "source": []
  },
  {
   "cell_type": "code",
   "execution_count": null,
   "id": "0f136ca4-fdd2-49be-8581-844b209cea66",
   "metadata": {},
   "outputs": [],
   "source": [
    "Adding whitespaces to strings:"
   ]
  },
  {
   "cell_type": "code",
   "execution_count": 8,
   "id": "46ca92ec-8ef2-45eb-a854-71749cf6aad6",
   "metadata": {},
   "outputs": [
    {
     "name": "stdout",
     "output_type": "stream",
     "text": [
      "fav_prog_language:pythonjavac++swiftc\n"
     ]
    }
   ],
   "source": [
    "print(\"fav_prog_language:pythonjavac++swiftc\")"
   ]
  },
  {
   "cell_type": "code",
   "execution_count": 9,
   "id": "d1a88238-0922-4a6a-8b80-78f50fc0a87d",
   "metadata": {},
   "outputs": [
    {
     "name": "stdout",
     "output_type": "stream",
     "text": [
      "fav_prog_language:\n",
      "python\n",
      "java\n",
      "c++\n",
      "swift\n",
      "c\n"
     ]
    }
   ],
   "source": [
    "print(\"fav_prog_language:\\npython\\njava\\nc++\\nswift\\nc\")"
   ]
  },
  {
   "cell_type": "code",
   "execution_count": null,
   "id": "fe15b1ca-178a-4d06-83c4-e0aee5260d91",
   "metadata": {},
   "outputs": [],
   "source": [
    "# \\n delimeter ....> new line delimeter"
   ]
  },
  {
   "cell_type": "code",
   "execution_count": 10,
   "id": "89a03029-3772-4fae-a093-fd64ea39e684",
   "metadata": {},
   "outputs": [
    {
     "name": "stdout",
     "output_type": "stream",
     "text": [
      "fav_prog_language:\n",
      "\tpython\n",
      "\tjava\n",
      "\tc++\n",
      "\tswift\n",
      "\tc\n"
     ]
    }
   ],
   "source": [
    "print(\"fav_prog_language:\\n\\tpython\\n\\tjava\\n\\tc++\\n\\tswift\\n\\tc\")"
   ]
  },
  {
   "cell_type": "code",
   "execution_count": null,
   "id": "b8528532-252a-4300-bc0b-1b46669fcca5",
   "metadata": {},
   "outputs": [],
   "source": [
    "\\t =====> tab delimeter"
   ]
  },
  {
   "cell_type": "code",
   "execution_count": null,
   "id": "85dd22b0-d93a-4c9e-9ce9-dc10b8f62953",
   "metadata": {},
   "outputs": [],
   "source": [
    "removeing white spaeces from the strings :"
   ]
  },
  {
   "cell_type": "code",
   "execution_count": null,
   "id": "328ed00b-2a93-4293-89be-d997b0c7ce36",
   "metadata": {},
   "outputs": [],
   "source": []
  },
  {
   "cell_type": "code",
   "execution_count": 11,
   "id": "03dd981b-1746-42d2-a74f-33ed8724f608",
   "metadata": {},
   "outputs": [
    {
     "name": "stdout",
     "output_type": "stream",
     "text": [
      "   python\n"
     ]
    }
   ],
   "source": [
    "name =\"   python\"  # gap is on the left side...\n",
    "print(name)"
   ]
  },
  {
   "cell_type": "code",
   "execution_count": 12,
   "id": "dfabdc48-fc8e-4f49-a8d0-b33aedd708a5",
   "metadata": {},
   "outputs": [
    {
     "name": "stdout",
     "output_type": "stream",
     "text": [
      "python  \n"
     ]
    }
   ],
   "source": [
    "name2 =\"python  \" # gap is on the right side...\n",
    "print(name2)"
   ]
  },
  {
   "cell_type": "code",
   "execution_count": 13,
   "id": "fcd8d9f6-d68a-4423-b94f-c6c75c253e40",
   "metadata": {},
   "outputs": [
    {
     "name": "stdout",
     "output_type": "stream",
     "text": [
      "python\n"
     ]
    }
   ],
   "source": [
    "name3 = \"python\"\n",
    "print(name3)"
   ]
  },
  {
   "cell_type": "code",
   "execution_count": 14,
   "id": "898a235f-9ba7-4229-b46f-e0cc946a228b",
   "metadata": {},
   "outputs": [
    {
     "data": {
      "text/plain": [
       "'python'"
      ]
     },
     "execution_count": 14,
     "metadata": {},
     "output_type": "execute_result"
    }
   ],
   "source": [
    "name.lstrip()"
   ]
  },
  {
   "cell_type": "code",
   "execution_count": 15,
   "id": "10b5c116-10e2-4877-beec-8322ffb1ae50",
   "metadata": {},
   "outputs": [
    {
     "data": {
      "text/plain": [
       "'   python'"
      ]
     },
     "execution_count": 15,
     "metadata": {},
     "output_type": "execute_result"
    }
   ],
   "source": [
    "name.rstrip()"
   ]
  },
  {
   "cell_type": "code",
   "execution_count": 16,
   "id": "f55da7f7-825f-49f1-8bcb-bec525552b1c",
   "metadata": {},
   "outputs": [
    {
     "name": "stdout",
     "output_type": "stream",
     "text": [
      "  python   \n"
     ]
    }
   ],
   "source": [
    "name4 = \"  python   \"\n",
    "print(name4)"
   ]
  },
  {
   "cell_type": "code",
   "execution_count": 17,
   "id": "653e67f0-128e-4a23-aab2-70fa0adaa361",
   "metadata": {},
   "outputs": [
    {
     "data": {
      "text/plain": [
       "'python'"
      ]
     },
     "execution_count": 17,
     "metadata": {},
     "output_type": "execute_result"
    }
   ],
   "source": [
    "name4.strip()"
   ]
  },
  {
   "cell_type": "code",
   "execution_count": null,
   "id": "c1b61ce2-63b4-4835-8e0d-62966047ff80",
   "metadata": {},
   "outputs": [],
   "source": []
  },
  {
   "cell_type": "code",
   "execution_count": null,
   "id": "21bf0aa4-400b-4bb7-a18d-ce308bf23a6c",
   "metadata": {},
   "outputs": [],
   "source": []
  },
  {
   "cell_type": "code",
   "execution_count": null,
   "id": "10fa1255-1f67-4333-9b0a-a3c5a10e635f",
   "metadata": {},
   "outputs": [],
   "source": []
  },
  {
   "cell_type": "code",
   "execution_count": null,
   "id": "ca8e2565-5fd7-4a1c-adb9-1b5a9fbdf002",
   "metadata": {},
   "outputs": [],
   "source": []
  },
  {
   "cell_type": "code",
   "execution_count": null,
   "id": "48495df4-2f01-4590-999e-fc6a4cd01c62",
   "metadata": {},
   "outputs": [],
   "source": []
  },
  {
   "cell_type": "code",
   "execution_count": null,
   "id": "eca39693-c9d4-4233-969e-b9ed7acfc5f6",
   "metadata": {},
   "outputs": [],
   "source": []
  },
  {
   "cell_type": "code",
   "execution_count": null,
   "id": "9b8cb97b-10ba-41a0-9236-d92a26ea29e5",
   "metadata": {},
   "outputs": [],
   "source": []
  },
  {
   "cell_type": "code",
   "execution_count": null,
   "id": "41a5e12b-c6c4-4c30-954b-d85c3064ecda",
   "metadata": {},
   "outputs": [],
   "source": []
  },
  {
   "cell_type": "code",
   "execution_count": null,
   "id": "9595cf1d-5420-4a0f-bbd0-cc147486a9b7",
   "metadata": {},
   "outputs": [],
   "source": []
  },
  {
   "cell_type": "code",
   "execution_count": null,
   "id": "c8620860-7c66-469f-a995-b604ad4bf30e",
   "metadata": {},
   "outputs": [],
   "source": []
  }
 ],
 "metadata": {
  "kernelspec": {
   "display_name": "Python 3 (ipykernel)",
   "language": "python",
   "name": "python3"
  },
  "language_info": {
   "codemirror_mode": {
    "name": "ipython",
    "version": 3
   },
   "file_extension": ".py",
   "mimetype": "text/x-python",
   "name": "python",
   "nbconvert_exporter": "python",
   "pygments_lexer": "ipython3",
   "version": "3.11.7"
  }
 },
 "nbformat": 4,
 "nbformat_minor": 5
}
