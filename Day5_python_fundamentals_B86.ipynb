{
 "cells": [
  {
   "cell_type": "code",
   "execution_count": null,
   "id": "105befd4-9848-4a84-9f7f-dc09d6fd7180",
   "metadata": {},
   "outputs": [],
   "source": [
    "Continuation with list datatypes:"
   ]
  },
  {
   "cell_type": "code",
   "execution_count": null,
   "id": "f89994cb-a5ce-4410-9605-02b1dcc5d78a",
   "metadata": {},
   "outputs": [],
   "source": [
    "Organising the list datatypes"
   ]
  },
  {
   "cell_type": "code",
   "execution_count": 2,
   "id": "dc01e361-2949-4d3b-a223-d3707a465114",
   "metadata": {},
   "outputs": [],
   "source": [
    "cars = ['maruth','kia','benz','suziki','audi','toyota','bmw']"
   ]
  },
  {
   "cell_type": "code",
   "execution_count": 3,
   "id": "d194152d-849a-4c73-95d4-b672c5cd02bc",
   "metadata": {},
   "outputs": [
    {
     "data": {
      "text/plain": [
       "list"
      ]
     },
     "execution_count": 3,
     "metadata": {},
     "output_type": "execute_result"
    }
   ],
   "source": [
    "type(cars)"
   ]
  },
  {
   "cell_type": "code",
   "execution_count": null,
   "id": "91c53be8-98f0-4516-ba90-071a4177c44d",
   "metadata": {},
   "outputs": [],
   "source": [
    "# req  i want to oraginsing the list in the alphabetical order .... A-Z"
   ]
  },
  {
   "cell_type": "code",
   "execution_count": null,
   "id": "a9565348-f14f-4d1b-84fb-33c16918625a",
   "metadata": {},
   "outputs": [],
   "source": [
    "There are two approaches  :\n",
    "\n",
    "   1. temp approach ======>Sorted ====> we will be having the original order of the list created\n",
    "    2. Permanent approach =======> changes are implied permanently. ====  sort"
   ]
  },
  {
   "cell_type": "code",
   "execution_count": 4,
   "id": "1a6bf36c-e640-47cd-a043-9c81ed97de58",
   "metadata": {},
   "outputs": [
    {
     "name": "stdout",
     "output_type": "stream",
     "text": [
      "['audi', 'benz', 'bmw', 'kia', 'maruth', 'suziki', 'toyota']\n"
     ]
    }
   ],
   "source": [
    "print(sorted(cars))"
   ]
  },
  {
   "cell_type": "code",
   "execution_count": 5,
   "id": "f875f6e5-9eb7-4866-8512-b8bd12d3162a",
   "metadata": {},
   "outputs": [
    {
     "name": "stdout",
     "output_type": "stream",
     "text": [
      "['maruth', 'kia', 'benz', 'suziki', 'audi', 'toyota', 'bmw']\n"
     ]
    }
   ],
   "source": [
    "print(cars) ## orginal orders"
   ]
  },
  {
   "cell_type": "code",
   "execution_count": 6,
   "id": "f4993e66-e6c2-43f9-96c4-e7553db68ae2",
   "metadata": {},
   "outputs": [],
   "source": [
    "cars.sort()"
   ]
  },
  {
   "cell_type": "code",
   "execution_count": 7,
   "id": "b475baf1-d8f2-4676-aebf-72dc380f388d",
   "metadata": {},
   "outputs": [
    {
     "name": "stdout",
     "output_type": "stream",
     "text": [
      "['audi', 'benz', 'bmw', 'kia', 'maruth', 'suziki', 'toyota']\n"
     ]
    }
   ],
   "source": [
    "print(cars)"
   ]
  },
  {
   "cell_type": "code",
   "execution_count": null,
   "id": "e3bf4dd4-ac79-457c-b9f0-e4258c3c59d6",
   "metadata": {},
   "outputs": [],
   "source": [
    "benz and bmw  ====> b,be,m"
   ]
  },
  {
   "cell_type": "code",
   "execution_count": null,
   "id": "095485eb-642e-4f73-ba6e-3da69bb1d36a",
   "metadata": {},
   "outputs": [],
   "source": [
    "Interview quesation : what is the deifference between sorted and sort methods in a list....?"
   ]
  },
  {
   "cell_type": "code",
   "execution_count": null,
   "id": "125a13cc-4f82-4cd6-97ed-ca2bdea93f6c",
   "metadata": {},
   "outputs": [],
   "source": [
    "sorted means temporay list \n",
    "sort changes implied permanently"
   ]
  },
  {
   "cell_type": "code",
   "execution_count": null,
   "id": "775ea9a2-f609-4c37-bfe8-8c24913f9d3e",
   "metadata": {},
   "outputs": [],
   "source": [
    "# req i want print the list in the revers order ===A=Z ===> Z-A"
   ]
  },
  {
   "cell_type": "code",
   "execution_count": 8,
   "id": "1800c978-c76a-42bd-9f2b-9fd995ced56e",
   "metadata": {},
   "outputs": [],
   "source": [
    "cars.reverse()"
   ]
  },
  {
   "cell_type": "code",
   "execution_count": 9,
   "id": "ae2782f4-d4ec-4845-a4c2-4105b2feba63",
   "metadata": {},
   "outputs": [
    {
     "name": "stdout",
     "output_type": "stream",
     "text": [
      "['toyota', 'suziki', 'maruth', 'kia', 'bmw', 'benz', 'audi']\n"
     ]
    }
   ],
   "source": [
    "print(cars)"
   ]
  },
  {
   "cell_type": "code",
   "execution_count": null,
   "id": "a1894bce-0855-4cf1-83f7-b08c3fc37628",
   "metadata": {},
   "outputs": [],
   "source": [
    "# req i want to know the total count of elements"
   ]
  },
  {
   "cell_type": "code",
   "execution_count": 10,
   "id": "8fe8c8f8-83e5-4b46-8cc9-5955a4888b82",
   "metadata": {},
   "outputs": [
    {
     "name": "stdout",
     "output_type": "stream",
     "text": [
      "['toyota', 'suziki', 'maruth', 'kia', 'bmw', 'benz', 'audi']\n"
     ]
    }
   ],
   "source": [
    "print(cars)"
   ]
  },
  {
   "cell_type": "code",
   "execution_count": 12,
   "id": "46bc2606-69c3-45e9-8b92-03e7cd1e27ce",
   "metadata": {},
   "outputs": [
    {
     "data": {
      "text/plain": [
       "7"
      ]
     },
     "execution_count": 12,
     "metadata": {},
     "output_type": "execute_result"
    }
   ],
   "source": [
    "len(cars)"
   ]
  },
  {
   "cell_type": "code",
   "execution_count": null,
   "id": "542500e8-6935-4081-b18a-48c8f4845aff",
   "metadata": {},
   "outputs": [],
   "source": [
    "introdction to slicing :\n",
    "    "
   ]
  },
  {
   "cell_type": "code",
   "execution_count": null,
   "id": "606557a1-652e-4f88-bcfc-09e6e51870de",
   "metadata": {},
   "outputs": [],
   "source": [
    "# Genral syntax of slicing:\n",
    "\n",
    "  (strat_value: stop_value:step_count)\n",
    "\n",
    "  Note : stop_value will be always exculsive to include we have to iuncrement the index the by next value +1.\n"
   ]
  },
  {
   "cell_type": "code",
   "execution_count": null,
   "id": "680c180a-a578-4eed-a1a7-90e2b0da74c9",
   "metadata": {},
   "outputs": [],
   "source": []
  },
  {
   "cell_type": "code",
   "execution_count": 13,
   "id": "847499fd-96e5-4b77-89c7-485fe8d1a909",
   "metadata": {},
   "outputs": [],
   "source": [
    "students = ['dikash','sonam','naveen','pradeep','abdul','nahid','afhsa','muskaan']"
   ]
  },
  {
   "cell_type": "code",
   "execution_count": 14,
   "id": "e98f07fc-59de-4ec5-ba54-d286b2194a27",
   "metadata": {},
   "outputs": [
    {
     "name": "stdout",
     "output_type": "stream",
     "text": [
      "['dikash', 'sonam', 'naveen', 'pradeep', 'abdul', 'nahid', 'afhsa', 'muskaan']\n"
     ]
    }
   ],
   "source": [
    "print(students)"
   ]
  },
  {
   "cell_type": "code",
   "execution_count": 17,
   "id": "0966eceb-0d52-44f1-a538-ae036b843708",
   "metadata": {},
   "outputs": [
    {
     "name": "stdout",
     "output_type": "stream",
     "text": [
      "['dikash']\n"
     ]
    }
   ],
   "source": [
    "print(students[0:1])"
   ]
  },
  {
   "cell_type": "code",
   "execution_count": 18,
   "id": "c71fc6a0-1531-4a47-9a5d-a6ea14113832",
   "metadata": {},
   "outputs": [
    {
     "name": "stdout",
     "output_type": "stream",
     "text": [
      "['dikash', 'sonam']\n"
     ]
    }
   ],
   "source": [
    "print(students[0:2])"
   ]
  },
  {
   "cell_type": "code",
   "execution_count": 20,
   "id": "b3ad4e28-b844-4b71-9db0-f190b3957680",
   "metadata": {},
   "outputs": [
    {
     "name": "stdout",
     "output_type": "stream",
     "text": [
      "['naveen', 'pradeep']\n"
     ]
    }
   ],
   "source": [
    "print(students[2:4])"
   ]
  },
  {
   "cell_type": "code",
   "execution_count": 21,
   "id": "bc76c121-3b79-4ed4-af1c-83b1fa777073",
   "metadata": {},
   "outputs": [
    {
     "name": "stdout",
     "output_type": "stream",
     "text": [
      "['dikash', 'naveen', 'abdul', 'afhsa']\n"
     ]
    }
   ],
   "source": [
    "print(students[0:9:2])"
   ]
  },
  {
   "cell_type": "code",
   "execution_count": null,
   "id": "b40e4d02-9bb4-443e-864b-74d8c8a3eeaf",
   "metadata": {},
   "outputs": [],
   "source": []
  },
  {
   "cell_type": "code",
   "execution_count": null,
   "id": "97fd9c0a-388d-4b56-ba50-864a157b3827",
   "metadata": {},
   "outputs": [],
   "source": []
  },
  {
   "cell_type": "code",
   "execution_count": null,
   "id": "e3f2e2ec-c0b3-432b-9d65-22db39eae5ac",
   "metadata": {},
   "outputs": [],
   "source": []
  },
  {
   "cell_type": "code",
   "execution_count": null,
   "id": "0ff6200a-4aac-4c13-b638-e123765abc32",
   "metadata": {},
   "outputs": [],
   "source": []
  },
  {
   "cell_type": "code",
   "execution_count": null,
   "id": "749215a8-aed0-486e-94af-8ed8a92d1c54",
   "metadata": {},
   "outputs": [],
   "source": []
  },
  {
   "cell_type": "code",
   "execution_count": null,
   "id": "bba490e6-c27d-4f93-baa0-95844e533039",
   "metadata": {},
   "outputs": [],
   "source": []
  },
  {
   "cell_type": "code",
   "execution_count": null,
   "id": "1e2f3f49-d964-41fb-8ba2-6eb0ff0b3744",
   "metadata": {},
   "outputs": [],
   "source": []
  },
  {
   "cell_type": "code",
   "execution_count": null,
   "id": "40eac06e-a2c2-4a82-b6d0-11971adab094",
   "metadata": {},
   "outputs": [],
   "source": []
  },
  {
   "cell_type": "code",
   "execution_count": null,
   "id": "bd56f419-a92f-4312-bf60-5408eebbb968",
   "metadata": {},
   "outputs": [],
   "source": []
  },
  {
   "cell_type": "code",
   "execution_count": null,
   "id": "25cc920c-e588-4075-ae4e-90c53d468b4e",
   "metadata": {},
   "outputs": [],
   "source": []
  },
  {
   "cell_type": "code",
   "execution_count": null,
   "id": "7f86c859-552f-450d-a035-0a2afd61e40f",
   "metadata": {},
   "outputs": [],
   "source": []
  },
  {
   "cell_type": "code",
   "execution_count": null,
   "id": "d5774ff4-cdea-425e-8ff2-c2d255b79c81",
   "metadata": {},
   "outputs": [],
   "source": []
  },
  {
   "cell_type": "code",
   "execution_count": null,
   "id": "fbfa52f4-873b-4edb-a439-03eccf6a9570",
   "metadata": {},
   "outputs": [],
   "source": []
  },
  {
   "cell_type": "code",
   "execution_count": null,
   "id": "6a333298-5c93-4ae7-87ab-85d3f086fd34",
   "metadata": {},
   "outputs": [],
   "source": []
  },
  {
   "cell_type": "code",
   "execution_count": null,
   "id": "2c4a8778-0856-4abc-aa2f-3339fff4eff9",
   "metadata": {},
   "outputs": [],
   "source": []
  },
  {
   "cell_type": "code",
   "execution_count": null,
   "id": "d1542119-171c-4c95-9338-0965baf6002b",
   "metadata": {},
   "outputs": [],
   "source": []
  },
  {
   "cell_type": "code",
   "execution_count": null,
   "id": "a1ee4a2c-c08f-4ced-b077-40a5e9383ba9",
   "metadata": {},
   "outputs": [],
   "source": []
  },
  {
   "cell_type": "code",
   "execution_count": null,
   "id": "6600159d-fa86-4b50-8e41-d8f0c3ec4d52",
   "metadata": {},
   "outputs": [],
   "source": []
  }
 ],
 "metadata": {
  "kernelspec": {
   "display_name": "Python 3 (ipykernel)",
   "language": "python",
   "name": "python3"
  },
  "language_info": {
   "codemirror_mode": {
    "name": "ipython",
    "version": 3
   },
   "file_extension": ".py",
   "mimetype": "text/x-python",
   "name": "python",
   "nbconvert_exporter": "python",
   "pygments_lexer": "ipython3",
   "version": "3.11.7"
  }
 },
 "nbformat": 4,
 "nbformat_minor": 5
}
