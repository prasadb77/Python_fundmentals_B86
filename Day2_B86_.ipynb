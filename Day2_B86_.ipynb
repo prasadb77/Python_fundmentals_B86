{
 "cells": [
  {
   "cell_type": "code",
   "execution_count": null,
   "id": "670f491d-3e42-4b5b-9d66-96b60a582e2e",
   "metadata": {},
   "outputs": [],
   "source": [
    "Introduction to python programing:"
   ]
  },
  {
   "cell_type": "code",
   "execution_count": null,
   "id": "aa771c26-3260-4c3f-a074-242b5055b420",
   "metadata": {},
   "outputs": [],
   "source": []
  },
  {
   "cell_type": "code",
   "execution_count": null,
   "id": "d412ab43-8e09-4009-b091-bda09eff29f9",
   "metadata": {},
   "outputs": [],
   "source": [
    "understanding the variable in python:"
   ]
  },
  {
   "cell_type": "code",
   "execution_count": null,
   "id": "0a47a868-a6dd-40c1-ac19-764f2272aefd",
   "metadata": {},
   "outputs": [],
   "source": []
  },
  {
   "cell_type": "code",
   "execution_count": 7,
   "id": "713b8818-578c-4ca4-a79a-a4a59bcbd364",
   "metadata": {},
   "outputs": [],
   "source": [
    "x = 2\n",
    "y = 3"
   ]
  },
  {
   "cell_type": "code",
   "execution_count": 9,
   "id": "3cfe00b9-13e6-42d5-92ee-381d7958b881",
   "metadata": {},
   "outputs": [
    {
     "name": "stdout",
     "output_type": "stream",
     "text": [
      "5\n"
     ]
    }
   ],
   "source": [
    " z = x+y\n",
    "print(z)"
   ]
  },
  {
   "cell_type": "code",
   "execution_count": null,
   "id": "f0af5a33-80bf-4178-b8e7-21587a3a2fc1",
   "metadata": {},
   "outputs": [],
   "source": [
    "Rules for declaring the variables name"
   ]
  },
  {
   "cell_type": "code",
   "execution_count": null,
   "id": "de23d5cf-c183-4f12-88b0-774a14d3d43f",
   "metadata": {},
   "outputs": [],
   "source": [
    "Rule No 1 : No Namespaces while declaring the variable name"
   ]
  },
  {
   "cell_type": "code",
   "execution_count": 10,
   "id": "d65099fa-0f36-4876-9c85-e635060944c6",
   "metadata": {},
   "outputs": [
    {
     "name": "stdout",
     "output_type": "stream",
     "text": [
      "prasad\n"
     ]
    }
   ],
   "source": [
    "firstname ='prasad'\n",
    "print(firstname)"
   ]
  },
  {
   "cell_type": "code",
   "execution_count": null,
   "id": "3cb22d8c-ec78-41b8-92f0-9e342efc6287",
   "metadata": {},
   "outputs": [],
   "source": [
    "Rule No 2: a variable name should not start with a number **"
   ]
  },
  {
   "cell_type": "code",
   "execution_count": 11,
   "id": "c4b8a99c-24f5-484b-a878-29470af1ab98",
   "metadata": {},
   "outputs": [
    {
     "ename": "SyntaxError",
     "evalue": "invalid decimal literal (4122457387.py, line 1)",
     "output_type": "error",
     "traceback": [
      "\u001b[1;36m  Cell \u001b[1;32mIn[11], line 1\u001b[1;36m\u001b[0m\n\u001b[1;33m    1name = 'sandeep'\u001b[0m\n\u001b[1;37m    ^\u001b[0m\n\u001b[1;31mSyntaxError\u001b[0m\u001b[1;31m:\u001b[0m invalid decimal literal\n"
     ]
    }
   ],
   "source": [
    "1name = 'sandeep'\n",
    "print(1name)"
   ]
  },
  {
   "cell_type": "code",
   "execution_count": 12,
   "id": "3c6da649-5412-4b85-9298-7903a757154e",
   "metadata": {},
   "outputs": [
    {
     "name": "stdout",
     "output_type": "stream",
     "text": [
      "sandeep\n"
     ]
    }
   ],
   "source": [
    "name1 = 'sandeep'\n",
    "print(name1)"
   ]
  },
  {
   "cell_type": "code",
   "execution_count": null,
   "id": "72641ef8-ac9f-405c-8540-012e483a1fe7",
   "metadata": {},
   "outputs": [],
   "source": [
    "Rule No 3 : a variable name should not contain any special charcters"
   ]
  },
  {
   "cell_type": "code",
   "execution_count": null,
   "id": "15fba9c5-710b-4117-a4b0-0a9233ace0d4",
   "metadata": {},
   "outputs": [],
   "source": [
    "@$#%^&*"
   ]
  },
  {
   "cell_type": "code",
   "execution_count": 13,
   "id": "59d8af72-77f1-4969-ac30-a9f260f77d43",
   "metadata": {},
   "outputs": [
    {
     "ename": "SyntaxError",
     "evalue": "invalid syntax (2399658553.py, line 1)",
     "output_type": "error",
     "traceback": [
      "\u001b[1;36m  Cell \u001b[1;32mIn[13], line 1\u001b[1;36m\u001b[0m\n\u001b[1;33m    name@ ='joesph'\u001b[0m\n\u001b[1;37m          ^\u001b[0m\n\u001b[1;31mSyntaxError\u001b[0m\u001b[1;31m:\u001b[0m invalid syntax\n"
     ]
    }
   ],
   "source": [
    "name@ ='joesph'\n",
    "print(name@)"
   ]
  },
  {
   "cell_type": "code",
   "execution_count": null,
   "id": "af3aa486-7351-4dec-a52a-243082b4bc9c",
   "metadata": {},
   "outputs": [],
   "source": []
  },
  {
   "cell_type": "code",
   "execution_count": null,
   "id": "7a605c65-3485-4545-8019-949aecbe8607",
   "metadata": {},
   "outputs": [],
   "source": [
    "intrudction to data types\n",
    "1. string =======>  str\n",
    "2.Numbers (integers =====> int and float (decimals =====> 0.1,0.2)) ====? float\n",
    "3 list ===> list\n",
    "4. tuple ====> tuple\n",
    "5. Dicionaries =====> dict"
   ]
  },
  {
   "cell_type": "code",
   "execution_count": null,
   "id": "34621e8d-e712-4411-9891-d1144d477f2e",
   "metadata": {},
   "outputs": [],
   "source": [
    "classfication of datatypes:\n",
    "  Boradly datatypes are classified in two categeries :\n",
    "1 mutable datatypes =====> which can edit /alter ====> flexible in nature\n",
    "2 immutable datatypes ====> which we cannot be able to edit / alter ====> fixed in nature"
   ]
  },
  {
   "cell_type": "code",
   "execution_count": null,
   "id": "78ef638d-9a38-4284-a643-824da0ff900f",
   "metadata": {},
   "outputs": [],
   "source": [
    "intrduction to string data types\n",
    "defination : A string is nothing but a series of charcters declared in quotes.\n",
    "\n",
    " classification : it is classified as an immutable datatypes\n",
    "\n",
    " how to define the string datatypes :\n",
    "1 single quotes\n",
    "2 double qoutes\n"
   ]
  },
  {
   "cell_type": "code",
   "execution_count": 14,
   "id": "abda1c41-a474-45b3-a4cd-19a7b450e715",
   "metadata": {},
   "outputs": [
    {
     "name": "stdout",
     "output_type": "stream",
     "text": [
      "naga babu\n"
     ]
    }
   ],
   "source": [
    "name = 'naga babu'  # single quote\n",
    "print(name)"
   ]
  },
  {
   "cell_type": "code",
   "execution_count": 15,
   "id": "b6e6c37d-fc3d-41b5-aca2-01ccfe012f5f",
   "metadata": {},
   "outputs": [
    {
     "name": "stdout",
     "output_type": "stream",
     "text": [
      " basha r\n"
     ]
    }
   ],
   "source": [
    "name2= \" basha r\" # double qoutes\n",
    "print(name2)"
   ]
  },
  {
   "cell_type": "code",
   "execution_count": null,
   "id": "28edc8f3-e2eb-4348-8152-266b95673955",
   "metadata": {},
   "outputs": [],
   "source": [
    "Introduction to string methods :\n",
    "\n"
   ]
  },
  {
   "cell_type": "code",
   "execution_count": 16,
   "id": "afd9a94b-5880-4051-8597-ee27b9177e85",
   "metadata": {},
   "outputs": [
    {
     "data": {
      "text/plain": [
       "str"
      ]
     },
     "execution_count": 16,
     "metadata": {},
     "output_type": "execute_result"
    }
   ],
   "source": [
    "type(name)"
   ]
  },
  {
   "cell_type": "code",
   "execution_count": 17,
   "id": "e531db15-cbb8-499b-b7a7-0868e7b4a6e2",
   "metadata": {},
   "outputs": [
    {
     "data": {
      "text/plain": [
       "str"
      ]
     },
     "execution_count": 17,
     "metadata": {},
     "output_type": "execute_result"
    }
   ],
   "source": [
    "type(name2)"
   ]
  },
  {
   "cell_type": "code",
   "execution_count": 19,
   "id": "b84a1c08-830e-430e-861e-eb4dd263e615",
   "metadata": {},
   "outputs": [],
   "source": [
    "fullname = \"joseph anthony\""
   ]
  },
  {
   "cell_type": "code",
   "execution_count": 20,
   "id": "aa87f924-e907-4ffb-ba81-127a61c846d4",
   "metadata": {},
   "outputs": [
    {
     "name": "stdout",
     "output_type": "stream",
     "text": [
      "joseph anthony\n"
     ]
    }
   ],
   "source": [
    "print(fullname)"
   ]
  },
  {
   "cell_type": "code",
   "execution_count": 21,
   "id": "bc94b504-8d9f-4f27-9f72-f4d18bf6b34b",
   "metadata": {},
   "outputs": [
    {
     "name": "stdout",
     "output_type": "stream",
     "text": [
      "Joseph Anthony\n"
     ]
    }
   ],
   "source": [
    "print(fullname.title())"
   ]
  },
  {
   "cell_type": "code",
   "execution_count": null,
   "id": "3b776234-353f-4bdc-85b2-01cdd260ea15",
   "metadata": {},
   "outputs": [],
   "source": [
    "# req \" i want the entrie name in capitals...."
   ]
  },
  {
   "cell_type": "code",
   "execution_count": 22,
   "id": "0c373d97-b24c-43e7-955c-60ee94fef5a7",
   "metadata": {},
   "outputs": [
    {
     "name": "stdout",
     "output_type": "stream",
     "text": [
      "JOSEPH ANTHONY\n"
     ]
    }
   ],
   "source": [
    "print(fullname.upper())"
   ]
  },
  {
   "cell_type": "code",
   "execution_count": null,
   "id": "713c683d-2ce0-402c-8965-0ca7fe414508",
   "metadata": {},
   "outputs": [],
   "source": [
    "# req \" i want the entrie name in small case  letters...."
   ]
  },
  {
   "cell_type": "code",
   "execution_count": 23,
   "id": "f2ed2926-d891-4aad-98ca-f41caf088dbf",
   "metadata": {},
   "outputs": [
    {
     "name": "stdout",
     "output_type": "stream",
     "text": [
      "joseph anthony\n"
     ]
    }
   ],
   "source": [
    "print(fullname.lower())"
   ]
  },
  {
   "cell_type": "code",
   "execution_count": null,
   "id": "c891bf66-8aff-431a-98f1-7b95e4979f71",
   "metadata": {},
   "outputs": [],
   "source": []
  },
  {
   "cell_type": "code",
   "execution_count": null,
   "id": "3f5fc83c-0b95-44fd-a99a-5ea2bfe5def8",
   "metadata": {},
   "outputs": [],
   "source": []
  },
  {
   "cell_type": "code",
   "execution_count": null,
   "id": "d11fb6a4-b7f1-4e3e-a63c-0752a38765fa",
   "metadata": {},
   "outputs": [],
   "source": []
  }
 ],
 "metadata": {
  "kernelspec": {
   "display_name": "Python 3 (ipykernel)",
   "language": "python",
   "name": "python3"
  },
  "language_info": {
   "codemirror_mode": {
    "name": "ipython",
    "version": 3
   },
   "file_extension": ".py",
   "mimetype": "text/x-python",
   "name": "python",
   "nbconvert_exporter": "python",
   "pygments_lexer": "ipython3",
   "version": "3.11.7"
  }
 },
 "nbformat": 4,
 "nbformat_minor": 5
}
