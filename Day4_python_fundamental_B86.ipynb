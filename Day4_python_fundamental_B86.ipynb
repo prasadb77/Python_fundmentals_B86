{
 "cells": [
  {
   "cell_type": "code",
   "execution_count": null,
   "id": "3a4da6c6-ac8c-4576-bae9-d1d404b2796d",
   "metadata": {},
   "outputs": [],
   "source": [
    "introudction to  list datatype:"
   ]
  },
  {
   "cell_type": "code",
   "execution_count": null,
   "id": "162d038f-e659-47b1-a218-0c8c8503eab2",
   "metadata": {},
   "outputs": [],
   "source": [
    "Defination : a list is a collection of items declared in parrticula order\n",
    "\n",
    "classfication : it is classified as a mutable datatypes\n",
    "\n",
    "how to define/ declare the list datatype.....[]"
   ]
  },
  {
   "cell_type": "code",
   "execution_count": 1,
   "id": "4caf6b22-eba0-4445-81a2-52c953d03a21",
   "metadata": {},
   "outputs": [],
   "source": [
    "students =['afsha','pradeepa','naveen','prkash','muskann','abdual'] # 0,1,2,3,4,5"
   ]
  },
  {
   "cell_type": "code",
   "execution_count": 2,
   "id": "0a22b240-7148-4083-b9f8-bf6b1270f588",
   "metadata": {},
   "outputs": [
    {
     "name": "stdout",
     "output_type": "stream",
     "text": [
      "['afsha', 'pradeepa', 'naveen', 'prkash', 'muskann', 'abdual']\n"
     ]
    }
   ],
   "source": [
    "print(students)"
   ]
  },
  {
   "cell_type": "code",
   "execution_count": 3,
   "id": "c0b5aa38-74a6-41da-9765-e17a076c33c0",
   "metadata": {},
   "outputs": [
    {
     "data": {
      "text/plain": [
       "list"
      ]
     },
     "execution_count": 3,
     "metadata": {},
     "output_type": "execute_result"
    }
   ],
   "source": [
    "type(students)"
   ]
  },
  {
   "cell_type": "code",
   "execution_count": null,
   "id": "33e8c925-4aa6-4347-abf9-f702931b24d5",
   "metadata": {},
   "outputs": [],
   "source": [
    "introduction to indexing :  indexing will be straing from the value is 0 onwards.\n",
    "    "
   ]
  },
  {
   "cell_type": "code",
   "execution_count": null,
   "id": "181855f3-07b3-4411-b4f5-ee78c9566182",
   "metadata": {},
   "outputs": [],
   "source": [
    "# req : i want to get pradeepa name in the output.......?"
   ]
  },
  {
   "cell_type": "code",
   "execution_count": 4,
   "id": "e9e14bf3-48e9-41ac-a00d-02a28da00034",
   "metadata": {},
   "outputs": [
    {
     "name": "stdout",
     "output_type": "stream",
     "text": [
      "pradeepa\n"
     ]
    }
   ],
   "source": [
    "print(students[1])"
   ]
  },
  {
   "cell_type": "code",
   "execution_count": 7,
   "id": "3b3c44f6-39e6-47bb-b20d-eaa358fbe841",
   "metadata": {},
   "outputs": [
    {
     "name": "stdout",
     "output_type": "stream",
     "text": [
      "Pradeepa\n"
     ]
    }
   ],
   "source": [
    "print(students[1].title())"
   ]
  },
  {
   "cell_type": "code",
   "execution_count": 9,
   "id": "0096a789-cc77-4126-8ce2-57bf6dc7bfa7",
   "metadata": {},
   "outputs": [
    {
     "name": "stdout",
     "output_type": "stream",
     "text": [
      "Prkash\n"
     ]
    }
   ],
   "source": [
    "print(students[3].title())"
   ]
  },
  {
   "cell_type": "code",
   "execution_count": null,
   "id": "a540f569-b310-4c8c-9dfb-f7ef0cf9947e",
   "metadata": {},
   "outputs": [],
   "source": [
    "1 how to add new elements to the list\n",
    "2 how to modify the elements in the list\n",
    "3 how to delete the elements in the list"
   ]
  },
  {
   "cell_type": "code",
   "execution_count": null,
   "id": "2911579e-bbe1-4654-bbb3-f5122b6cf048",
   "metadata": {},
   "outputs": [],
   "source": [
    "# req : i want add joseph to above list....?"
   ]
  },
  {
   "cell_type": "code",
   "execution_count": 10,
   "id": "9ebb36db-8e6c-401f-9244-73b0d3525b25",
   "metadata": {},
   "outputs": [],
   "source": [
    "students.append('joeshph')"
   ]
  },
  {
   "cell_type": "code",
   "execution_count": null,
   "id": "35c900f7-2457-4c9c-b2b3-0e52711f81b3",
   "metadata": {},
   "outputs": [],
   "source": []
  },
  {
   "cell_type": "code",
   "execution_count": 11,
   "id": "77a2ef13-594d-45be-a289-fc5878628c43",
   "metadata": {},
   "outputs": [
    {
     "name": "stdout",
     "output_type": "stream",
     "text": [
      "['afsha', 'pradeepa', 'naveen', 'prkash', 'muskann', 'abdual', 'joeshph']\n"
     ]
    }
   ],
   "source": [
    "print(students)"
   ]
  },
  {
   "cell_type": "code",
   "execution_count": null,
   "id": "e336aa19-b842-499c-a54e-c1fca84f3fd2",
   "metadata": {},
   "outputs": [],
   "source": [
    "# req : i want add santosh to the above list....?"
   ]
  },
  {
   "cell_type": "code",
   "execution_count": 12,
   "id": "07babb75-bef5-41c7-b1ab-d55dc646259d",
   "metadata": {},
   "outputs": [],
   "source": [
    "students.append('santosh')"
   ]
  },
  {
   "cell_type": "code",
   "execution_count": 13,
   "id": "cf7a8443-c5e6-42e5-8ebd-00caf9ebe784",
   "metadata": {},
   "outputs": [
    {
     "name": "stdout",
     "output_type": "stream",
     "text": [
      "['afsha', 'pradeepa', 'naveen', 'prkash', 'muskann', 'abdual', 'joeshph', 'santosh']\n"
     ]
    }
   ],
   "source": [
    "print(students)"
   ]
  },
  {
   "cell_type": "code",
   "execution_count": null,
   "id": "1489bc2c-6c1a-497f-9b56-987858321da7",
   "metadata": {},
   "outputs": [],
   "source": [
    "# req : i want add afreen to the above list.... in 2nd index position"
   ]
  },
  {
   "cell_type": "code",
   "execution_count": 14,
   "id": "e920ce71-53f8-455c-be7f-3fd497718367",
   "metadata": {},
   "outputs": [],
   "source": [
    "students.insert(2,'afreen')"
   ]
  },
  {
   "cell_type": "code",
   "execution_count": 15,
   "id": "1e8ab941-ab3d-4e2d-8dd0-48fda7ca51c5",
   "metadata": {},
   "outputs": [
    {
     "name": "stdout",
     "output_type": "stream",
     "text": [
      "afreen\n"
     ]
    }
   ],
   "source": [
    "print(students[2])"
   ]
  },
  {
   "cell_type": "code",
   "execution_count": null,
   "id": "0309e064-7980-43f8-8302-2b8cd4aee035",
   "metadata": {},
   "outputs": [],
   "source": [
    "interview question : what is teh diffrent between append and insert method in a list, can you pls explain?"
   ]
  },
  {
   "cell_type": "code",
   "execution_count": null,
   "id": "09c153ed-3977-4265-8ac4-bae3f0fab964",
   "metadata": {},
   "outputs": [],
   "source": [
    "# req : i want modify the afsha name to sonam"
   ]
  },
  {
   "cell_type": "code",
   "execution_count": 18,
   "id": "77464d64-a08b-4ab2-87f9-fc3915480320",
   "metadata": {},
   "outputs": [],
   "source": [
    "students[0] ='sonam'"
   ]
  },
  {
   "cell_type": "code",
   "execution_count": 19,
   "id": "479cbf98-0196-4c93-b29b-756d6788e065",
   "metadata": {},
   "outputs": [
    {
     "name": "stdout",
     "output_type": "stream",
     "text": [
      "['sonam', 'pradeepa', 'afreen', 'naveen', 'prkash', 'muskann', 'abdual', 'joeshph', 'santosh']\n"
     ]
    }
   ],
   "source": [
    "print(students)"
   ]
  },
  {
   "cell_type": "code",
   "execution_count": null,
   "id": "a65efa99-5d48-41e9-9dfd-e5e3a9829e11",
   "metadata": {},
   "outputs": [],
   "source": [
    "# req : i want to delete naveen name from the above lsit......?"
   ]
  },
  {
   "cell_type": "code",
   "execution_count": 20,
   "id": "190cb1e9-e184-4c3c-a77b-ff441fe56cc2",
   "metadata": {},
   "outputs": [],
   "source": [
    "del students[3] # it will do permenant delete"
   ]
  },
  {
   "cell_type": "code",
   "execution_count": 21,
   "id": "b1d3cc8e-c0ab-4dcc-85cb-c8f6c5569213",
   "metadata": {},
   "outputs": [
    {
     "name": "stdout",
     "output_type": "stream",
     "text": [
      "['sonam', 'pradeepa', 'afreen', 'prkash', 'muskann', 'abdual', 'joeshph', 'santosh']\n"
     ]
    }
   ],
   "source": [
    "print(students)"
   ]
  },
  {
   "cell_type": "code",
   "execution_count": null,
   "id": "96a0e1b1-769c-45d9-859d-872060a3db8e",
   "metadata": {},
   "outputs": [],
   "source": [
    "# temp deleting the elements useing pop method\n",
    "pop will be by default deleting the last elements in the list"
   ]
  },
  {
   "cell_type": "code",
   "execution_count": 22,
   "id": "c86b0cbd-c8ef-444d-b999-f09a8e635fd3",
   "metadata": {},
   "outputs": [
    {
     "name": "stdout",
     "output_type": "stream",
     "text": [
      "['sonam', 'pradeepa', 'afreen', 'prkash', 'muskann', 'abdual', 'joeshph', 'santosh']\n"
     ]
    }
   ],
   "source": [
    "print(students)"
   ]
  },
  {
   "cell_type": "code",
   "execution_count": 24,
   "id": "18cdc7b0-0b99-40a3-8843-01d181d9139b",
   "metadata": {},
   "outputs": [],
   "source": [
    "x = students.pop()"
   ]
  },
  {
   "cell_type": "code",
   "execution_count": 25,
   "id": "5d4e73c9-e11d-4a9c-a95e-8c88aca8587f",
   "metadata": {},
   "outputs": [
    {
     "name": "stdout",
     "output_type": "stream",
     "text": [
      "santosh\n"
     ]
    }
   ],
   "source": [
    "print(x)"
   ]
  },
  {
   "cell_type": "code",
   "execution_count": null,
   "id": "ef3a233e-9158-4ee4-971b-473016f8d664",
   "metadata": {},
   "outputs": [],
   "source": [
    "interview_question : what is the  different between delete and pop methods in a list"
   ]
  },
  {
   "cell_type": "code",
   "execution_count": null,
   "id": "0ecc3f83-bf9e-446b-897f-4619a2b26783",
   "metadata": {},
   "outputs": [],
   "source": [
    "# is used for commenting in the code"
   ]
  },
  {
   "cell_type": "code",
   "execution_count": null,
   "id": "9fb75a3c-b4d4-4193-a278-fd3fe8222d00",
   "metadata": {},
   "outputs": [],
   "source": []
  },
  {
   "cell_type": "code",
   "execution_count": null,
   "id": "b2dd503c-3bbb-488c-a57b-556c22c404ea",
   "metadata": {},
   "outputs": [],
   "source": []
  },
  {
   "cell_type": "code",
   "execution_count": null,
   "id": "a872f6ba-4c40-499f-aa30-045b5e29a86d",
   "metadata": {},
   "outputs": [],
   "source": []
  },
  {
   "cell_type": "code",
   "execution_count": null,
   "id": "fb64ba8f-b214-4111-ab8c-db50971727ed",
   "metadata": {},
   "outputs": [],
   "source": []
  },
  {
   "cell_type": "code",
   "execution_count": null,
   "id": "f0f603ac-f977-450f-b438-e08d30cc4de6",
   "metadata": {},
   "outputs": [],
   "source": []
  },
  {
   "cell_type": "code",
   "execution_count": null,
   "id": "47ebee61-d9c1-4706-8e0b-57f0fa8cb6f5",
   "metadata": {},
   "outputs": [],
   "source": []
  },
  {
   "cell_type": "code",
   "execution_count": null,
   "id": "0a9752b1-c239-45ec-b5db-fbc357561f3e",
   "metadata": {},
   "outputs": [],
   "source": []
  }
 ],
 "metadata": {
  "kernelspec": {
   "display_name": "Python 3 (ipykernel)",
   "language": "python",
   "name": "python3"
  },
  "language_info": {
   "codemirror_mode": {
    "name": "ipython",
    "version": 3
   },
   "file_extension": ".py",
   "mimetype": "text/x-python",
   "name": "python",
   "nbconvert_exporter": "python",
   "pygments_lexer": "ipython3",
   "version": "3.11.7"
  }
 },
 "nbformat": 4,
 "nbformat_minor": 5
}
